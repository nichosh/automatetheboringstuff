{
 "cells": [
  {
   "cell_type": "code",
   "execution_count": 3,
   "metadata": {},
   "outputs": [
    {
     "data": {
      "text/plain": [
       "'c:\\\\Users\\\\mnickarz\\\\Desktop\\\\pyth\\\\AutomateTheBoringstuff'"
      ]
     },
     "execution_count": 3,
     "metadata": {},
     "output_type": "execute_result"
    }
   ],
   "source": [
    "import os \n",
    "os.getcwd() #to get current working directiry"
   ]
  },
  {
   "cell_type": "code",
   "execution_count": 2,
   "metadata": {},
   "outputs": [
    {
     "ename": "FileNotFoundError",
     "evalue": "[WinError 2] Nie można odnaleźć określonego pliku: 'xxx.txt'",
     "output_type": "error",
     "traceback": [
      "\u001b[1;31m---------------------------------------------------------------------------\u001b[0m",
      "\u001b[1;31mFileNotFoundError\u001b[0m                         Traceback (most recent call last)",
      "\u001b[1;32mc:\\Users\\mnickarz\\Desktop\\pyth\\AutomateTheBoringstuff\\Lession_33.ipynb Komórka 2\u001b[0m in \u001b[0;36m<cell line: 1>\u001b[1;34m()\u001b[0m\n\u001b[1;32m----> <a href='vscode-notebook-cell:/c%3A/Users/mnickarz/Desktop/pyth/AutomateTheBoringstuff/Lession_33.ipynb#W1sZmlsZQ%3D%3D?line=0'>1</a>\u001b[0m os\u001b[39m.\u001b[39;49munlink(\u001b[39m'\u001b[39;49m\u001b[39mxxx.txt\u001b[39;49m\u001b[39m'\u001b[39;49m)\n",
      "\u001b[1;31mFileNotFoundError\u001b[0m: [WinError 2] Nie można odnaleźć określonego pliku: 'xxx.txt'"
     ]
    }
   ],
   "source": [
    "os.unlink('xxx.txt')  #to remove a file"
   ]
  },
  {
   "cell_type": "code",
   "execution_count": 4,
   "metadata": {},
   "outputs": [
    {
     "ename": "FileNotFoundError",
     "evalue": "[WinError 2] Nie można odnaleźć określonego pliku: 'dir'",
     "output_type": "error",
     "traceback": [
      "\u001b[1;31m---------------------------------------------------------------------------\u001b[0m",
      "\u001b[1;31mFileNotFoundError\u001b[0m                         Traceback (most recent call last)",
      "\u001b[1;32mc:\\Users\\mnickarz\\Desktop\\pyth\\AutomateTheBoringstuff\\Lession_33.ipynb Komórka 3\u001b[0m in \u001b[0;36m<cell line: 1>\u001b[1;34m()\u001b[0m\n\u001b[1;32m----> <a href='vscode-notebook-cell:/c%3A/Users/mnickarz/Desktop/pyth/AutomateTheBoringstuff/Lession_33.ipynb#W2sZmlsZQ%3D%3D?line=0'>1</a>\u001b[0m os\u001b[39m.\u001b[39;49mrmdir(\u001b[39m'\u001b[39;49m\u001b[39mdir\u001b[39;49m\u001b[39m'\u001b[39;49m)\n",
      "\u001b[1;31mFileNotFoundError\u001b[0m: [WinError 2] Nie można odnaleźć określonego pliku: 'dir'"
     ]
    }
   ],
   "source": [
    "os.rmdir('dir') #to remove whole directory/folder ONLY WHEN FOLDER IS EMPTY"
   ]
  },
  {
   "cell_type": "code",
   "execution_count": 5,
   "metadata": {},
   "outputs": [
    {
     "ename": "FileNotFoundError",
     "evalue": "[WinError 3] System nie może odnaleźć określonej ścieżki: 'aaaaa'",
     "output_type": "error",
     "traceback": [
      "\u001b[1;31m---------------------------------------------------------------------------\u001b[0m",
      "\u001b[1;31mFileNotFoundError\u001b[0m                         Traceback (most recent call last)",
      "\u001b[1;32mc:\\Users\\mnickarz\\Desktop\\pyth\\AutomateTheBoringstuff\\Lession_33.ipynb Komórka 4\u001b[0m in \u001b[0;36m<cell line: 2>\u001b[1;34m()\u001b[0m\n\u001b[0;32m      <a href='vscode-notebook-cell:/c%3A/Users/mnickarz/Desktop/pyth/AutomateTheBoringstuff/Lession_33.ipynb#W3sZmlsZQ%3D%3D?line=0'>1</a>\u001b[0m \u001b[39mimport\u001b[39;00m \u001b[39mshutil\u001b[39;00m\n\u001b[1;32m----> <a href='vscode-notebook-cell:/c%3A/Users/mnickarz/Desktop/pyth/AutomateTheBoringstuff/Lession_33.ipynb#W3sZmlsZQ%3D%3D?line=1'>2</a>\u001b[0m shutil\u001b[39m.\u001b[39;49mrmtree(\u001b[39m'\u001b[39;49m\u001b[39maaaaa\u001b[39;49m\u001b[39m'\u001b[39;49m)\n",
      "File \u001b[1;32mC:\\Program Files\\WindowsApps\\PythonSoftwareFoundation.Python.3.10_3.10.2288.0_x64__qbz5n2kfra8p0\\lib\\shutil.py:749\u001b[0m, in \u001b[0;36mrmtree\u001b[1;34m(path, ignore_errors, onerror)\u001b[0m\n\u001b[0;32m    747\u001b[0m     \u001b[39m# can't continue even if onerror hook returns\u001b[39;00m\n\u001b[0;32m    748\u001b[0m     \u001b[39mreturn\u001b[39;00m\n\u001b[1;32m--> 749\u001b[0m \u001b[39mreturn\u001b[39;00m _rmtree_unsafe(path, onerror)\n",
      "File \u001b[1;32mC:\\Program Files\\WindowsApps\\PythonSoftwareFoundation.Python.3.10_3.10.2288.0_x64__qbz5n2kfra8p0\\lib\\shutil.py:600\u001b[0m, in \u001b[0;36m_rmtree_unsafe\u001b[1;34m(path, onerror)\u001b[0m\n\u001b[0;32m    598\u001b[0m         entries \u001b[39m=\u001b[39m \u001b[39mlist\u001b[39m(scandir_it)\n\u001b[0;32m    599\u001b[0m \u001b[39mexcept\u001b[39;00m \u001b[39mOSError\u001b[39;00m:\n\u001b[1;32m--> 600\u001b[0m     onerror(os\u001b[39m.\u001b[39;49mscandir, path, sys\u001b[39m.\u001b[39;49mexc_info())\n\u001b[0;32m    601\u001b[0m     entries \u001b[39m=\u001b[39m []\n\u001b[0;32m    602\u001b[0m \u001b[39mfor\u001b[39;00m entry \u001b[39min\u001b[39;00m entries:\n",
      "File \u001b[1;32mC:\\Program Files\\WindowsApps\\PythonSoftwareFoundation.Python.3.10_3.10.2288.0_x64__qbz5n2kfra8p0\\lib\\shutil.py:597\u001b[0m, in \u001b[0;36m_rmtree_unsafe\u001b[1;34m(path, onerror)\u001b[0m\n\u001b[0;32m    595\u001b[0m \u001b[39mdef\u001b[39;00m \u001b[39m_rmtree_unsafe\u001b[39m(path, onerror):\n\u001b[0;32m    596\u001b[0m     \u001b[39mtry\u001b[39;00m:\n\u001b[1;32m--> 597\u001b[0m         \u001b[39mwith\u001b[39;00m os\u001b[39m.\u001b[39;49mscandir(path) \u001b[39mas\u001b[39;00m scandir_it:\n\u001b[0;32m    598\u001b[0m             entries \u001b[39m=\u001b[39m \u001b[39mlist\u001b[39m(scandir_it)\n\u001b[0;32m    599\u001b[0m     \u001b[39mexcept\u001b[39;00m \u001b[39mOSError\u001b[39;00m:\n",
      "\u001b[1;31mFileNotFoundError\u001b[0m: [WinError 3] System nie może odnaleźć określonej ścieżki: 'aaaaa'"
     ]
    }
   ],
   "source": [
    "import shutil\n",
    "shutil.rmtree('aaaaa') #to remove folder with its content without warning, so be careful "
   ]
  },
  {
   "cell_type": "code",
   "execution_count": 1,
   "metadata": {},
   "outputs": [
    {
     "ename": "FileNotFoundError",
     "evalue": "[WinError -2147024894] Nie można odnaleźć określonego pliku.: 'c:\\\\Users\\\\mnickarz\\\\Desktop\\\\pyth\\\\AutomateTheBoringstuff\\\\path'",
     "output_type": "error",
     "traceback": [
      "\u001b[1;31m---------------------------------------------------------------------------\u001b[0m",
      "\u001b[1;31mcom_error\u001b[0m                                 Traceback (most recent call last)",
      "File \u001b[1;32m~\\AppData\\Local\\Packages\\PythonSoftwareFoundation.Python.3.10_qbz5n2kfra8p0\\LocalCache\\local-packages\\Python310\\site-packages\\send2trash\\plat_win_modern.py:59\u001b[0m, in \u001b[0;36msend2trash\u001b[1;34m(paths)\u001b[0m\n\u001b[0;32m     58\u001b[0m \u001b[39mfor\u001b[39;00m path \u001b[39min\u001b[39;00m paths:\n\u001b[1;32m---> 59\u001b[0m     item \u001b[39m=\u001b[39m shell\u001b[39m.\u001b[39;49mSHCreateItemFromParsingName(path, \u001b[39mNone\u001b[39;49;00m, shell\u001b[39m.\u001b[39;49mIID_IShellItem)\n\u001b[0;32m     60\u001b[0m     fileop\u001b[39m.\u001b[39mDeleteItem(item, sink)\n",
      "\u001b[1;31mcom_error\u001b[0m: (-2147024894, 'Nie można odnaleźć określonego pliku.', None, None)",
      "\nDuring handling of the above exception, another exception occurred:\n",
      "\u001b[1;31mFileNotFoundError\u001b[0m                         Traceback (most recent call last)",
      "\u001b[1;32mc:\\Users\\mnickarz\\Desktop\\pyth\\AutomateTheBoringstuff\\Lession_33.ipynb Komórka 5\u001b[0m in \u001b[0;36m<cell line: 2>\u001b[1;34m()\u001b[0m\n\u001b[0;32m      <a href='vscode-notebook-cell:/c%3A/Users/mnickarz/Desktop/pyth/AutomateTheBoringstuff/Lession_33.ipynb#W4sZmlsZQ%3D%3D?line=0'>1</a>\u001b[0m \u001b[39mimport\u001b[39;00m \u001b[39msend2trash\u001b[39;00m\n\u001b[1;32m----> <a href='vscode-notebook-cell:/c%3A/Users/mnickarz/Desktop/pyth/AutomateTheBoringstuff/Lession_33.ipynb#W4sZmlsZQ%3D%3D?line=1'>2</a>\u001b[0m send2trash\u001b[39m.\u001b[39;49msend2trash(\u001b[39m'\u001b[39;49m\u001b[39mpath\u001b[39;49m\u001b[39m'\u001b[39;49m)\n",
      "File \u001b[1;32m~\\AppData\\Local\\Packages\\PythonSoftwareFoundation.Python.3.10_qbz5n2kfra8p0\\LocalCache\\local-packages\\Python310\\site-packages\\send2trash\\plat_win_modern.py:69\u001b[0m, in \u001b[0;36msend2trash\u001b[1;34m(paths)\u001b[0m\n\u001b[0;32m     65\u001b[0m         \u001b[39mraise\u001b[39;00m \u001b[39mOSError\u001b[39;00m(\u001b[39mNone\u001b[39;00m, \u001b[39mNone\u001b[39;00m, paths, result)\n\u001b[0;32m     66\u001b[0m \u001b[39mexcept\u001b[39;00m pywintypes\u001b[39m.\u001b[39mcom_error \u001b[39mas\u001b[39;00m error:\n\u001b[0;32m     67\u001b[0m     \u001b[39m# convert to standard OS error, allows other code to get a\u001b[39;00m\n\u001b[0;32m     68\u001b[0m     \u001b[39m# normal errno\u001b[39;00m\n\u001b[1;32m---> 69\u001b[0m     \u001b[39mraise\u001b[39;00m \u001b[39mOSError\u001b[39;00m(\u001b[39mNone\u001b[39;00m, error\u001b[39m.\u001b[39mstrerror, path, error\u001b[39m.\u001b[39mhresult)\n\u001b[0;32m     70\u001b[0m \u001b[39mfinally\u001b[39;00m:\n\u001b[0;32m     71\u001b[0m     \u001b[39m# Need to make sure we call this once fore every init\u001b[39;00m\n\u001b[0;32m     72\u001b[0m     pythoncom\u001b[39m.\u001b[39mCoUninitialize()\n",
      "\u001b[1;31mFileNotFoundError\u001b[0m: [WinError -2147024894] Nie można odnaleźć określonego pliku.: 'c:\\\\Users\\\\mnickarz\\\\Desktop\\\\pyth\\\\AutomateTheBoringstuff\\\\path'"
     ]
    }
   ],
   "source": [
    "import send2trash\n",
    "send2trash.send2trash('path') #need to istall library using PIP, sends files to the recycling bin"
   ]
  },
  {
   "cell_type": "code",
   "execution_count": null,
   "metadata": {},
   "outputs": [],
   "source": []
  }
 ],
 "metadata": {
  "kernelspec": {
   "display_name": "Python 3.10.8 64-bit (microsoft store)",
   "language": "python",
   "name": "python3"
  },
  "language_info": {
   "codemirror_mode": {
    "name": "ipython",
    "version": 3
   },
   "file_extension": ".py",
   "mimetype": "text/x-python",
   "name": "python",
   "nbconvert_exporter": "python",
   "pygments_lexer": "ipython3",
   "version": "3.10.8"
  },
  "orig_nbformat": 4,
  "vscode": {
   "interpreter": {
    "hash": "4a3c5ba77b521659a95ade9853885d980c0b6e213df6f1959534a7f73845b647"
   }
  }
 },
 "nbformat": 4,
 "nbformat_minor": 2
}
