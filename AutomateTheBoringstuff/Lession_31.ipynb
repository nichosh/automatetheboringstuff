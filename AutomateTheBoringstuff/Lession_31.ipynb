{
 "cells": [
  {
   "cell_type": "code",
   "execution_count": 8,
   "metadata": {},
   "outputs": [],
   "source": [
    "file = open(r'C:\\Users\\mnickarz\\Desktop\\pyth\\file.txt') #opening file with direct path\n",
    "content = file.read() #to read file method read is needed, reading is avalible only once, we have to re-call open method to read it again| Saving it as a variable is a good idea\n",
    "file.close() #closing file after we're done reading it\n"
   ]
  },
  {
   "cell_type": "code",
   "execution_count": 10,
   "metadata": {},
   "outputs": [],
   "source": [
    "file = open(r'C:\\Users\\mnickarz\\Desktop\\pyth\\file.txt')\n",
    "file.readlines() #readlines opens file as strings inside of a list \n",
    "file.close()\n"
   ]
  },
  {
   "cell_type": "code",
   "execution_count": null,
   "metadata": {},
   "outputs": [],
   "source": [
    "file1 = open(r'C:\\Users\\mnickarz\\Desktop\\pyth\\file1.txt', 'w') #adding string w at the end activates a writing mode - this will erase whole file and start from scratch | if file doesn't exist, new file wil be created\n",
    "file = open(r'C:\\Users\\mnickarz\\Desktop\\pyth\\file.txt', 'a') #adding string a  at the end, activates APPEND MODE, that will allow to write at the end of the file | if file doesn't exist, new file will be created\n",
    "\n"
   ]
  },
  {
   "cell_type": "code",
   "execution_count": 18,
   "metadata": {},
   "outputs": [],
   "source": [
    "file1 = open(r'C:\\Users\\mnickarz\\Desktop\\pyth\\file1.txt', 'w') #adding string w at the end activates a writing mode - this will erase whole file and start from scratch | if file doesn't exist, new file wil be created\n",
    "file1.write('Hello!!!!!') #doesnt add \\newline, needed to add it manually\n",
    "file1.write('Hello!!!!!\\n')\n",
    "file1.write('Hello!!!!!\\n')\n",
    "file1.write('Hello!!!!!\\n')\n",
    "file1.close()"
   ]
  },
  {
   "cell_type": "code",
   "execution_count": 20,
   "metadata": {},
   "outputs": [],
   "source": [
    "baconFile = open('bacon.txt', 'w')\n",
    "baconFile.write('Bacon is not a vegetable')\n",
    "baconFile.close()"
   ]
  },
  {
   "cell_type": "code",
   "execution_count": 22,
   "metadata": {},
   "outputs": [
    {
     "name": "stdout",
     "output_type": "stream",
     "text": [
      "c:\\Users\\mnickarz\\Desktop\\pyth\\AutomateTheBoringstuff\n"
     ]
    }
   ],
   "source": [
    "import os\n",
    "print(os.getcwd()) #getting current working directory, to check where the file bacon.txt is located\n"
   ]
  },
  {
   "cell_type": "code",
   "execution_count": 23,
   "metadata": {},
   "outputs": [],
   "source": [
    "baconFile = open('bacon.txt','a') #opening file in append mode\n",
    "baconFile.write('\\n\\nBacon is delicious') #adding more content to the file\n",
    "baconFile.close()\n"
   ]
  },
  {
   "cell_type": "code",
   "execution_count": 24,
   "metadata": {},
   "outputs": [],
   "source": [
    "import shelve #shelve is module for storing oher complex data structures\n",
    "shelf = shelve.open('mydata') #opening new df as shelf file object (treat it like a dictionary)\n",
    "shelf['cats'] = ['PupcioPapcio','Kitku','Oskar','Puszollo'] #saving a shelf obj with cats\n",
    "shelf.close()"
   ]
  },
  {
   "cell_type": "code",
   "execution_count": 29,
   "metadata": {},
   "outputs": [
    {
     "data": {
      "text/plain": [
       "[['PupcioPapcio', 'Kitku', 'Oskar', 'Puszollo']]"
      ]
     },
     "execution_count": 29,
     "metadata": {},
     "output_type": "execute_result"
    }
   ],
   "source": [
    "shelf = shelve.open('mydata') #shelf are very similar to dictionaries\n",
    "shelf['cats']\n",
    "list(shelf.keys()) #you can view keys from shelf object like in a dictionary\n",
    "list(shelf.values()) #you can view values from shelf object like in a dictionary "
   ]
  },
  {
   "cell_type": "code",
   "execution_count": null,
   "metadata": {},
   "outputs": [],
   "source": []
  }
 ],
 "metadata": {
  "kernelspec": {
   "display_name": "Python 3.10.7 64-bit",
   "language": "python",
   "name": "python3"
  },
  "language_info": {
   "codemirror_mode": {
    "name": "ipython",
    "version": 3
   },
   "file_extension": ".py",
   "mimetype": "text/x-python",
   "name": "python",
   "nbconvert_exporter": "python",
   "pygments_lexer": "ipython3",
   "version": "3.10.7"
  },
  "orig_nbformat": 4,
  "vscode": {
   "interpreter": {
    "hash": "a7dbb88c84ecda04e2dfa8176cb6708abf8c95c32934f510df16d1a1f4945387"
   }
  }
 },
 "nbformat": 4,
 "nbformat_minor": 2
}
