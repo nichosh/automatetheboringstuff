{
 "cells": [
  {
   "cell_type": "code",
   "execution_count": 3,
   "metadata": {},
   "outputs": [
    {
     "name": "stdout",
     "output_type": "stream",
     "text": [
      "The folder is C:\\Users\\mnickarz\\Desktop\\pyth\\__PDF, the subfolders are: ['fofofolder2', 'folder1'], and filenames are: ['file.txt', 'file1.txt', 'Python dla każdego. Podstawy programowania. Wydanie III.pdf', 'Zanurkuj_w_Pythonie.pdf']\n",
      "The folder is C:\\Users\\mnickarz\\Desktop\\pyth\\__PDF\\fofofolder2, the subfolders are: [], and filenames are: []\n",
      "The folder is C:\\Users\\mnickarz\\Desktop\\pyth\\__PDF\\folder1, the subfolders are: [], and filenames are: []\n"
     ]
    }
   ],
   "source": [
    "from fileinput import filename\n",
    "import os\n",
    "from re import sub\n",
    "for folderName, subfoldes, filenames in os.walk(r'C:\\Users\\mnickarz\\Desktop\\pyth\\__PDF'):      #return value is used in FOR LOOPS\n",
    "    print(f'The folder is {folderName}, the subfolders are: {subfoldes}, and filenames are: {filenames}')"
   ]
  }
 ],
 "metadata": {
  "kernelspec": {
   "display_name": "Python 3.10.8 64-bit (microsoft store)",
   "language": "python",
   "name": "python3"
  },
  "language_info": {
   "codemirror_mode": {
    "name": "ipython",
    "version": 3
   },
   "file_extension": ".py",
   "mimetype": "text/x-python",
   "name": "python",
   "nbconvert_exporter": "python",
   "pygments_lexer": "ipython3",
   "version": "3.10.8"
  },
  "orig_nbformat": 4,
  "vscode": {
   "interpreter": {
    "hash": "4a3c5ba77b521659a95ade9853885d980c0b6e213df6f1959534a7f73845b647"
   }
  }
 },
 "nbformat": 4,
 "nbformat_minor": 2
}
