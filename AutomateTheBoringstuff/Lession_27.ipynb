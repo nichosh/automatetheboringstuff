{
 "cells": [
  {
   "cell_type": "code",
   "execution_count": 5,
   "metadata": {},
   "outputs": [],
   "source": [
    "import re\n",
    "\n",
    "beginsWithHelloRegex = re.compile(r'^Hello') # ^ means it HAS to begin at the beginning of the string\n",
    "# beginsWithHelloRegex.search('Hello There!')\n",
    "beginsWithHelloRegex.search('He said Hello There!') # returns NONE becuase the word Hello isn't at the beginning "
   ]
  },
  {
   "cell_type": "code",
   "execution_count": 6,
   "metadata": {},
   "outputs": [
    {
     "data": {
      "text/plain": [
       "<re.Match object; span=(6, 12), match='world!'>"
      ]
     },
     "execution_count": 6,
     "metadata": {},
     "output_type": "execute_result"
    }
   ],
   "source": [
    "endsWithWorldRegex = re.compile(r'world!$') # $ at the end means that string needs to end with this word\n",
    "endsWithWorldRegex.search('Hello world!')"
   ]
  },
  {
   "cell_type": "code",
   "execution_count": 7,
   "metadata": {},
   "outputs": [
    {
     "data": {
      "text/plain": [
       "<re.Match object; span=(0, 11), match='25654885623'>"
      ]
     },
     "execution_count": 7,
     "metadata": {},
     "output_type": "execute_result"
    }
   ],
   "source": [
    "allDigitsRegex = re.compile(r'^\\d+$') # ^ at the beginning and $ at the end means, that string needs to begin and end with said pattern\n",
    "allDigitsRegex.search('25654885623')"
   ]
  },
  {
   "cell_type": "code",
   "execution_count": 8,
   "metadata": {},
   "outputs": [
    {
     "data": {
      "text/plain": [
       "['cat', 'hat', 'sat', 'lat', 'mat']"
      ]
     },
     "execution_count": 8,
     "metadata": {},
     "output_type": "execute_result"
    }
   ],
   "source": [
    "atRegex = re.compile(r'.at') # . means anything (except for newline character), in this case anything followed by letters at\n",
    "atRegex.findall('The cat in the hat sat on the flat mat') #it returns word 'lat' instead of flat, because dot symbolizes only one character"
   ]
  },
  {
   "cell_type": "code",
   "execution_count": 9,
   "metadata": {},
   "outputs": [
    {
     "data": {
      "text/plain": [
       "[' cat', ' hat', ' sat', 'flat', ' mat']"
      ]
     },
     "execution_count": 9,
     "metadata": {},
     "output_type": "execute_result"
    }
   ],
   "source": [
    "atRegex = re.compile(r'.{1,2}at') #code is modified so the alghoritm will search one or two of any characters before letters at\n",
    "atRegex.findall('The cat in the hat sat on the flat mat') # dot means also it will find any white characters (like space character)"
   ]
  },
  {
   "cell_type": "code",
   "execution_count": 11,
   "metadata": {},
   "outputs": [
    {
     "data": {
      "text/plain": [
       "[('Maciek', 'Nickarz')]"
      ]
     },
     "execution_count": 11,
     "metadata": {},
     "output_type": "execute_result"
    }
   ],
   "source": [
    "name = 'First Name: Maciek Last Name: Nickarz'\n",
    "\n",
    "nameRegex = re.compile(r'First Name: (.*) Last Name: (.*)') # .* means anything with zero or more - basically ANYTHING\n",
    "nameRegex.findall(name)"
   ]
  },
  {
   "cell_type": "code",
   "execution_count": 13,
   "metadata": {},
   "outputs": [
    {
     "data": {
      "text/plain": [
       "['To serve humans']"
      ]
     },
     "execution_count": 13,
     "metadata": {},
     "output_type": "execute_result"
    }
   ],
   "source": [
    "serve = '<To serve humans> for dinner>'\n",
    "\n",
    "greedy = re.compile(r'<(.*)>') #this is greedy expression, for non-greedy add ? at the end\n",
    "greedy.findall(serve)\n",
    "\n",
    "nongreedy = re.compile(r'<(.*?)>') #non-greedy\n",
    "nongreedy.findall(serve)"
   ]
  },
  {
   "cell_type": "code",
   "execution_count": 18,
   "metadata": {},
   "outputs": [
    {
     "data": {
      "text/plain": [
       "<re.Match object; span=(0, 60), match='Serve the public trust.\\nProtect the innocent.\\nU>"
      ]
     },
     "execution_count": 18,
     "metadata": {},
     "output_type": "execute_result"
    }
   ],
   "source": [
    "prime = 'Serve the public trust.\\nProtect the innocent.\\nUphold the law'\n",
    "\n",
    "dotStarRegex = re.compile(r'.*', re.DOTALL) #additional parameter means truly ALL including newline charater\n",
    "dotStarRegex.search(prime)"
   ]
  },
  {
   "cell_type": "code",
   "execution_count": 21,
   "metadata": {},
   "outputs": [
    {
     "name": "stdout",
     "output_type": "stream",
     "text": [
      "['A', 'i', 'o', 'u', 'o', 'a', 'i', 'o', 'o', 'a', 'a', 'o', 'u', 'o', 'o', 'o', 'o', 'u']\n"
     ]
    }
   ],
   "source": [
    "txt = 'Al, why is your programing book talk about RoboCop so much?'\n",
    "\n",
    "vowelRegex = re.compile(r'[aeiou]', re.IGNORECAS) #re.I works as well #ignore case parameter is self-explainatory\n",
    "print(vowelRegex.findall(txt))"
   ]
  },
  {
   "cell_type": "code",
   "execution_count": null,
   "metadata": {},
   "outputs": [],
   "source": []
  }
 ],
 "metadata": {
  "kernelspec": {
   "display_name": "Python 3.10.7 64-bit",
   "language": "python",
   "name": "python3"
  },
  "language_info": {
   "codemirror_mode": {
    "name": "ipython",
    "version": 3
   },
   "file_extension": ".py",
   "mimetype": "text/x-python",
   "name": "python",
   "nbconvert_exporter": "python",
   "pygments_lexer": "ipython3",
   "version": "3.10.7"
  },
  "orig_nbformat": 4,
  "vscode": {
   "interpreter": {
    "hash": "a7dbb88c84ecda04e2dfa8176cb6708abf8c95c32934f510df16d1a1f4945387"
   }
  }
 },
 "nbformat": 4,
 "nbformat_minor": 2
}
