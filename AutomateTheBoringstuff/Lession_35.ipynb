{
 "cells": [
  {
   "cell_type": "code",
   "execution_count": 1,
   "metadata": {},
   "outputs": [
    {
     "ename": "Exception",
     "evalue": "This is error message!",
     "output_type": "error",
     "traceback": [
      "\u001b[1;31m---------------------------------------------------------------------------\u001b[0m",
      "\u001b[1;31mException\u001b[0m                                 Traceback (most recent call last)",
      "\u001b[1;32mc:\\Users\\mnickarz\\Desktop\\pyth\\AutomateTheBoringstuff\\Lession_35.ipynb Komórka 1\u001b[0m in \u001b[0;36m<cell line: 1>\u001b[1;34m()\u001b[0m\n\u001b[1;32m----> <a href='vscode-notebook-cell:/c%3A/Users/mnickarz/Desktop/pyth/AutomateTheBoringstuff/Lession_35.ipynb#W0sZmlsZQ%3D%3D?line=0'>1</a>\u001b[0m \u001b[39mraise\u001b[39;00m \u001b[39mException\u001b[39;00m(\u001b[39m'\u001b[39m\u001b[39mThis is error message!\u001b[39m\u001b[39m'\u001b[39m)\n",
      "\u001b[1;31mException\u001b[0m: This is error message!"
     ]
    }
   ],
   "source": [
    "raise Exception('This is error message!') #creating own exceptions "
   ]
  },
  {
   "cell_type": "code",
   "execution_count": 20,
   "metadata": {},
   "outputs": [],
   "source": [
    "'''\n",
    "\n",
    "************\n",
    "*          *\n",
    "*          *\n",
    "*          *\n",
    "************\n",
    "\n",
    "'''\n",
    "\n",
    "#quick function to test different error messages\n",
    "\n",
    "\n",
    "def boxPrint(symbol,width,height):\n",
    "    if len(symbol) != 1:\n",
    "        raise Exception('Symbol needs to be sting of lenght 1!')\n",
    "    if (width  <2 ) or (height < 2):\n",
    "        raise Exception('Width and Height must be >= 2 ')\n",
    "    print(symbol * width)\n",
    "    for i in range(height - 2):\n",
    "        print(symbol + (' ' * (width - 2)) + symbol)\n",
    "    print(symbol * width)"
   ]
  },
  {
   "cell_type": "code",
   "execution_count": 25,
   "metadata": {},
   "outputs": [
    {
     "ename": "Exception",
     "evalue": "Width and Height must be >= 2 ",
     "output_type": "error",
     "traceback": [
      "\u001b[1;31m---------------------------------------------------------------------------\u001b[0m",
      "\u001b[1;31mException\u001b[0m                                 Traceback (most recent call last)",
      "\u001b[1;32mc:\\Users\\mnickarz\\Desktop\\pyth\\AutomateTheBoringstuff\\Lession_35.ipynb Komórka 3\u001b[0m in \u001b[0;36m<cell line: 1>\u001b[1;34m()\u001b[0m\n\u001b[1;32m----> <a href='vscode-notebook-cell:/c%3A/Users/mnickarz/Desktop/pyth/AutomateTheBoringstuff/Lession_35.ipynb#W2sZmlsZQ%3D%3D?line=0'>1</a>\u001b[0m boxPrint(\u001b[39m'\u001b[39;49m\u001b[39m!\u001b[39;49m\u001b[39m'\u001b[39;49m,\u001b[39m1\u001b[39;49m,\u001b[39m1\u001b[39;49m)\n",
      "\u001b[1;32mc:\\Users\\mnickarz\\Desktop\\pyth\\AutomateTheBoringstuff\\Lession_35.ipynb Komórka 3\u001b[0m in \u001b[0;36mboxPrint\u001b[1;34m(symbol, width, height)\u001b[0m\n\u001b[0;32m     <a href='vscode-notebook-cell:/c%3A/Users/mnickarz/Desktop/pyth/AutomateTheBoringstuff/Lession_35.ipynb#W2sZmlsZQ%3D%3D?line=14'>15</a>\u001b[0m     \u001b[39mraise\u001b[39;00m \u001b[39mException\u001b[39;00m(\u001b[39m'\u001b[39m\u001b[39mSymbol needs to be sting of lenght 1!\u001b[39m\u001b[39m'\u001b[39m)\n\u001b[0;32m     <a href='vscode-notebook-cell:/c%3A/Users/mnickarz/Desktop/pyth/AutomateTheBoringstuff/Lession_35.ipynb#W2sZmlsZQ%3D%3D?line=15'>16</a>\u001b[0m \u001b[39mif\u001b[39;00m (width  \u001b[39m<\u001b[39m\u001b[39m2\u001b[39m ) \u001b[39mor\u001b[39;00m (height \u001b[39m<\u001b[39m \u001b[39m2\u001b[39m):\n\u001b[1;32m---> <a href='vscode-notebook-cell:/c%3A/Users/mnickarz/Desktop/pyth/AutomateTheBoringstuff/Lession_35.ipynb#W2sZmlsZQ%3D%3D?line=16'>17</a>\u001b[0m     \u001b[39mraise\u001b[39;00m \u001b[39mException\u001b[39;00m(\u001b[39m'\u001b[39m\u001b[39mWidth and Height must be >= 2 \u001b[39m\u001b[39m'\u001b[39m)\n\u001b[0;32m     <a href='vscode-notebook-cell:/c%3A/Users/mnickarz/Desktop/pyth/AutomateTheBoringstuff/Lession_35.ipynb#W2sZmlsZQ%3D%3D?line=17'>18</a>\u001b[0m \u001b[39mprint\u001b[39m(symbol \u001b[39m*\u001b[39m width)\n\u001b[0;32m     <a href='vscode-notebook-cell:/c%3A/Users/mnickarz/Desktop/pyth/AutomateTheBoringstuff/Lession_35.ipynb#W2sZmlsZQ%3D%3D?line=18'>19</a>\u001b[0m \u001b[39mfor\u001b[39;00m i \u001b[39min\u001b[39;00m \u001b[39mrange\u001b[39m(height \u001b[39m-\u001b[39m \u001b[39m2\u001b[39m):\n",
      "\u001b[1;31mException\u001b[0m: Width and Height must be >= 2 "
     ]
    }
   ],
   "source": [
    "boxPrint('!',1,1)"
   ]
  },
  {
   "cell_type": "code",
   "execution_count": 26,
   "metadata": {},
   "outputs": [
    {
     "name": "stdout",
     "output_type": "stream",
     "text": [
      "The traceback info was written to error_log.txt\n"
     ]
    }
   ],
   "source": [
    "import traceback   #importing traceback module to save error messages in txt file\n",
    "try:\n",
    "    raise Exception('This is an error message!') #raising random error message\n",
    "except:\n",
    "    errorFile = open('error_log.txt','a')\n",
    "    errorFile.write(traceback.format_exc())\n",
    "    errorFile.close()\n",
    "    print('The traceback info was written to error_log.txt')"
   ]
  },
  {
   "cell_type": "code",
   "execution_count": 27,
   "metadata": {},
   "outputs": [
    {
     "data": {
      "text/plain": [
       "'c:\\\\Users\\\\mnickarz\\\\Desktop\\\\pyth\\\\AutomateTheBoringstuff'"
      ]
     },
     "execution_count": 27,
     "metadata": {},
     "output_type": "execute_result"
    }
   ],
   "source": [
    "import os \n",
    "os.getcwd()"
   ]
  },
  {
   "cell_type": "code",
   "execution_count": 28,
   "metadata": {},
   "outputs": [
    {
     "ename": "AssertionError",
     "evalue": "This is the error message.",
     "output_type": "error",
     "traceback": [
      "\u001b[1;31m---------------------------------------------------------------------------\u001b[0m",
      "\u001b[1;31mAssertionError\u001b[0m                            Traceback (most recent call last)",
      "\u001b[1;32mc:\\Users\\mnickarz\\Desktop\\pyth\\AutomateTheBoringstuff\\Lession_35.ipynb Komórka 6\u001b[0m in \u001b[0;36m<cell line: 1>\u001b[1;34m()\u001b[0m\n\u001b[1;32m----> <a href='vscode-notebook-cell:/c%3A/Users/mnickarz/Desktop/pyth/AutomateTheBoringstuff/Lession_35.ipynb#W5sZmlsZQ%3D%3D?line=0'>1</a>\u001b[0m \u001b[39massert\u001b[39;00m \u001b[39mFalse\u001b[39;00m, \u001b[39m'\u001b[39m\u001b[39mThis is the error message.\u001b[39m\u001b[39m'\u001b[39m\n",
      "\u001b[1;31mAssertionError\u001b[0m: This is the error message."
     ]
    }
   ],
   "source": [
    "assert False, 'This is the error message.' #sanity check - checks if program is doing what it should"
   ]
  },
  {
   "cell_type": "code",
   "execution_count": 11,
   "metadata": {},
   "outputs": [
    {
     "name": "stdout",
     "output_type": "stream",
     "text": [
      "{'ns': 'green', 'ew': 'red'}\n"
     ]
    },
    {
     "ename": "AssertionError",
     "evalue": "Neither light is red!{'ns': 'yellow', 'ew': 'green'}",
     "output_type": "error",
     "traceback": [
      "\u001b[1;31m---------------------------------------------------------------------------\u001b[0m",
      "\u001b[1;31mAssertionError\u001b[0m                            Traceback (most recent call last)",
      "\u001b[1;32mc:\\Users\\mnickarz\\Desktop\\pyth\\AutomateTheBoringstuff\\Lession_35.ipynb Komórka 7\u001b[0m in \u001b[0;36m<cell line: 14>\u001b[1;34m()\u001b[0m\n\u001b[0;32m     <a href='vscode-notebook-cell:/c%3A/Users/mnickarz/Desktop/pyth/AutomateTheBoringstuff/Lession_35.ipynb#W6sZmlsZQ%3D%3D?line=10'>11</a>\u001b[0m     \u001b[39massert\u001b[39;00m \u001b[39m'\u001b[39m\u001b[39mred\u001b[39m\u001b[39m'\u001b[39m \u001b[39min\u001b[39;00m intersection\u001b[39m.\u001b[39mvalues(), \u001b[39m'\u001b[39m\u001b[39mNeither light is red!\u001b[39m\u001b[39m'\u001b[39m \u001b[39m+\u001b[39m \u001b[39mstr\u001b[39m(intersection)    \n\u001b[0;32m     <a href='vscode-notebook-cell:/c%3A/Users/mnickarz/Desktop/pyth/AutomateTheBoringstuff/Lession_35.ipynb#W6sZmlsZQ%3D%3D?line=12'>13</a>\u001b[0m \u001b[39mprint\u001b[39m(dyrekcyjna_dawida)\n\u001b[1;32m---> <a href='vscode-notebook-cell:/c%3A/Users/mnickarz/Desktop/pyth/AutomateTheBoringstuff/Lession_35.ipynb#W6sZmlsZQ%3D%3D?line=13'>14</a>\u001b[0m switchLights(dyrekcyjna_dawida)\n\u001b[0;32m     <a href='vscode-notebook-cell:/c%3A/Users/mnickarz/Desktop/pyth/AutomateTheBoringstuff/Lession_35.ipynb#W6sZmlsZQ%3D%3D?line=14'>15</a>\u001b[0m \u001b[39mprint\u001b[39m(dyrekcyjna_dawida)\n",
      "\u001b[1;32mc:\\Users\\mnickarz\\Desktop\\pyth\\AutomateTheBoringstuff\\Lession_35.ipynb Komórka 7\u001b[0m in \u001b[0;36mswitchLights\u001b[1;34m(intersection)\u001b[0m\n\u001b[0;32m      <a href='vscode-notebook-cell:/c%3A/Users/mnickarz/Desktop/pyth/AutomateTheBoringstuff/Lession_35.ipynb#W6sZmlsZQ%3D%3D?line=8'>9</a>\u001b[0m     \u001b[39melif\u001b[39;00m intersection[key] \u001b[39m==\u001b[39m \u001b[39m'\u001b[39m\u001b[39mred\u001b[39m\u001b[39m'\u001b[39m:\n\u001b[0;32m     <a href='vscode-notebook-cell:/c%3A/Users/mnickarz/Desktop/pyth/AutomateTheBoringstuff/Lession_35.ipynb#W6sZmlsZQ%3D%3D?line=9'>10</a>\u001b[0m         intersection[key] \u001b[39m=\u001b[39m \u001b[39m'\u001b[39m\u001b[39mgreen\u001b[39m\u001b[39m'\u001b[39m\n\u001b[1;32m---> <a href='vscode-notebook-cell:/c%3A/Users/mnickarz/Desktop/pyth/AutomateTheBoringstuff/Lession_35.ipynb#W6sZmlsZQ%3D%3D?line=10'>11</a>\u001b[0m \u001b[39massert\u001b[39;00m \u001b[39m'\u001b[39m\u001b[39mred\u001b[39m\u001b[39m'\u001b[39m \u001b[39min\u001b[39;00m intersection\u001b[39m.\u001b[39mvalues(), \u001b[39m'\u001b[39m\u001b[39mNeither light is red!\u001b[39m\u001b[39m'\u001b[39m \u001b[39m+\u001b[39m \u001b[39mstr\u001b[39m(intersection)\n",
      "\u001b[1;31mAssertionError\u001b[0m: Neither light is red!{'ns': 'yellow', 'ew': 'green'}"
     ]
    }
   ],
   "source": [
    "dyrekcyjna_dawida = {'ns':'green','ew':'red'} #street intersection ns = north-south and ew = east-west \n",
    "\n",
    "def switchLights(intersection):\n",
    "    for key in intersection.keys():\n",
    "        if intersection[key] == 'green':\n",
    "            intersection[key] = 'yellow'\n",
    "        elif intersection[key] == 'yellow':\n",
    "            intersection[key] = 'red'\n",
    "        elif intersection[key] == 'red':\n",
    "            intersection[key] = 'green'\n",
    "    assert 'red' in intersection.values(), 'Neither light is red!' + str(intersection)  #assert makes sure eveything is ligically correct\n",
    "\n",
    "print(dyrekcyjna_dawida)\n",
    "switchLights(dyrekcyjna_dawida)\n",
    "print(dyrekcyjna_dawida)\n",
    "\n"
   ]
  }
 ],
 "metadata": {
  "kernelspec": {
   "display_name": "Python 3.10.8 64-bit (microsoft store)",
   "language": "python",
   "name": "python3"
  },
  "language_info": {
   "codemirror_mode": {
    "name": "ipython",
    "version": 3
   },
   "file_extension": ".py",
   "mimetype": "text/x-python",
   "name": "python",
   "nbconvert_exporter": "python",
   "pygments_lexer": "ipython3",
   "version": "3.10.8"
  },
  "orig_nbformat": 4,
  "vscode": {
   "interpreter": {
    "hash": "4a3c5ba77b521659a95ade9853885d980c0b6e213df6f1959534a7f73845b647"
   }
  }
 },
 "nbformat": 4,
 "nbformat_minor": 2
}
