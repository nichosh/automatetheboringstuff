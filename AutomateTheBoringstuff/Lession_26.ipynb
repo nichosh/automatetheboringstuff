{
 "cells": [
  {
   "cell_type": "code",
   "execution_count": 1,
   "metadata": {},
   "outputs": [
    {
     "data": {
      "text/plain": [
       "['789-654-3210', '852-123-4567', '963-321-0000']"
      ]
     },
     "execution_count": 1,
     "metadata": {},
     "output_type": "execute_result"
    }
   ],
   "source": [
    "import re\n",
    "\n",
    "example = ''' \n",
    "John: 789-654-3210\n",
    "Bill: 852-123-4567   \n",
    "Amy: 963-321-0000 '''\n",
    "\n",
    "\n",
    "phoneRegex.findall(example) #findall doesn't return MATCH OBJECT, it returns list of strings or list of tuples of strings"
   ]
  },
  {
   "cell_type": "markdown",
   "metadata": {},
   "source": [
    "John: 789-654-3210 Bill: 852-123-4567 Amy: 963-321-0000"
   ]
  },
  {
   "cell_type": "code",
   "execution_count": 2,
   "metadata": {},
   "outputs": [
    {
     "data": {
      "text/plain": [
       "[('789', '654-3210'), ('852', '123-4567'), ('963', '321-0000')]"
      ]
     },
     "execution_count": 2,
     "metadata": {},
     "output_type": "execute_result"
    }
   ],
   "source": [
    "phoneRegex = re.compile(r'(\\d\\d\\d)-(\\d\\d\\d-\\d\\d\\d\\d)') #groups created for area code and main number\n",
    "phoneRegex.findall(example) #if there's a grouping in the rgex compile line, findall will return list of tuples with multiple strings connected to each group"
   ]
  },
  {
   "cell_type": "code",
   "execution_count": 3,
   "metadata": {},
   "outputs": [
    {
     "data": {
      "text/plain": [
       "['12 partridges',\n",
       " '22 turtle',\n",
       " '30 French',\n",
       " '36 calling',\n",
       " '40 gold',\n",
       " '42 geese',\n",
       " '42 swans',\n",
       " '40 milking',\n",
       " '36 dancing',\n",
       " '30 leaping',\n",
       " '22 piping',\n",
       " '12 drumming']"
      ]
     },
     "execution_count": 3,
     "metadata": {},
     "output_type": "execute_result"
    }
   ],
   "source": [
    "lyrics = '12 partridges in pear trees, 22 turtle doves, 30 French hens, 36 calling birds, 40 gold rings, 42 geese laying eggs, 42 swans, 40 milking maids, 36 dancing ladies, 30 leaping lords, 22 piping pipers and 12 drumming drummers'\n",
    "xmasRegex = re.compile(r'\\d+\\s\\w+') #restult is showing only the first word, because w+ char class is checking untill it finds any other char class (like space or digit)\n",
    "xmasRegex.findall(lyrics)\n"
   ]
  },
  {
   "cell_type": "code",
   "execution_count": 5,
   "metadata": {},
   "outputs": [
    {
     "name": "stdout",
     "output_type": "stream",
     "text": [
      "['a', 'i', 'e', 'i', 'e', 'a', 'e', 'e', 'u', 'e', 'o', 'e', 'e', 'e', 'a', 'i', 'i', 'o', 'i', 'e', 'e', 'e', 'a', 'y', 'i', 'e', 'a', 'i', 'i', 'a', 'i', 'a', 'i', 'a', 'i', 'e', 'e', 'a', 'i', 'o', 'i', 'i', 'i', 'e', 'a', 'u', 'i', 'u', 'e']\n"
     ]
    }
   ],
   "source": [
    "vowelRegex = re.compile(r'[aeiouyAEIOUY]') #creating own character class, in this case vowels, everything needs to be in square brackets []\n",
    "print(vowelRegex.findall(lyrics)) #printing to show list horizontally"
   ]
  },
  {
   "cell_type": "code",
   "execution_count": 6,
   "metadata": {},
   "outputs": [
    {
     "name": "stdout",
     "output_type": "stream",
     "text": [
      "['1', '2', ' ', 'p', 'r', 't', 'r', 'd', 'g', 's', ' ', 'n', ' ', 'p', 'r', ' ', 't', 'r', 's', ',', ' ', '2', '2', ' ', 't', 'r', 't', 'l', ' ', 'd', 'v', 's', ',', ' ', '3', '0', ' ', 'F', 'r', 'n', 'c', 'h', ' ', 'h', 'n', 's', ',', ' ', '3', '6', ' ', 'c', 'l', 'l', 'n', 'g', ' ', 'b', 'r', 'd', 's', ',', ' ', '4', '0', ' ', 'g', 'l', 'd', ' ', 'r', 'n', 'g', 's', ',', ' ', '4', '2', ' ', 'g', 's', ' ', 'l', 'n', 'g', ' ', 'g', 'g', 's', ',', ' ', '4', '2', ' ', 's', 'w', 'n', 's', ',', ' ', '4', '0', ' ', 'm', 'l', 'k', 'n', 'g', ' ', 'm', 'd', 's', ',', ' ', '3', '6', ' ', 'd', 'n', 'c', 'n', 'g', ' ', 'l', 'd', 's', ',', ' ', '3', '0', ' ', 'l', 'p', 'n', 'g', ' ', 'l', 'r', 'd', 's', ',', ' ', '2', '2', ' ', 'p', 'p', 'n', 'g', ' ', 'p', 'p', 'r', 's', ' ', 'n', 'd', ' ', '1', '2', ' ', 'd', 'r', 'm', 'm', 'n', 'g', ' ', 'd', 'r', 'm', 'm', 'r', 's']\n"
     ]
    }
   ],
   "source": [
    "consonantRegex = re.compile(r'[^aeiouyAEIOUY]') # ^ - this symbol creates inverted version of expression, python will search for characters that ARE NOT in this list, consonants, numbers and spaces in this case\n",
    "print(consonantRegex.findall(lyrics)) #printing to show list horizontally\n",
    "\n",
    "\n"
   ]
  },
  {
   "cell_type": "code",
   "execution_count": null,
   "metadata": {},
   "outputs": [],
   "source": []
  }
 ],
 "metadata": {
  "kernelspec": {
   "display_name": "Python 3.10.7 64-bit",
   "language": "python",
   "name": "python3"
  },
  "language_info": {
   "name": "python",
   "version": "3.10.7"
  },
  "orig_nbformat": 4,
  "vscode": {
   "interpreter": {
    "hash": "a7dbb88c84ecda04e2dfa8176cb6708abf8c95c32934f510df16d1a1f4945387"
   }
  }
 },
 "nbformat": 4,
 "nbformat_minor": 2
}
