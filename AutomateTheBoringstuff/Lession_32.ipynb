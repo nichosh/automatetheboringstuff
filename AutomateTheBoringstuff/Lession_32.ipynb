{
 "cells": [
  {
   "cell_type": "code",
   "execution_count": 2,
   "metadata": {},
   "outputs": [
    {
     "data": {
      "text/plain": [
       "'C:\\\\Users\\\\mnickarz\\\\Desktop\\\\pyth\\\\baconCopy.txt'"
      ]
     },
     "execution_count": 2,
     "metadata": {},
     "output_type": "execute_result"
    }
   ],
   "source": [
    "import shutil\n",
    "shutil.copy(r'C:\\Users\\mnickarz\\Desktop\\pyth\\AutomateTheBoringstuff\\bacon.txt', r'C:\\Users\\mnickarz\\Desktop\\pyth\\baconCopy.txt')\n",
    "#copying a single file"
   ]
  },
  {
   "cell_type": "code",
   "execution_count": 4,
   "metadata": {},
   "outputs": [
    {
     "data": {
      "text/plain": [
       "'C:\\\\Users\\\\mnickarz\\\\Desktop\\\\PythDlaKazd_COPY'"
      ]
     },
     "execution_count": 4,
     "metadata": {},
     "output_type": "execute_result"
    }
   ],
   "source": [
    "shutil.copytree(r'C:\\Users\\mnickarz\\Desktop\\pyth\\pth_dla_kazdego_exercises',r'C:\\Users\\mnickarz\\Desktop\\PythDlaKazd_COPY')\n",
    "#copying a whole folder"
   ]
  },
  {
   "cell_type": "code",
   "execution_count": 5,
   "metadata": {},
   "outputs": [
    {
     "data": {
      "text/plain": [
       "'C:\\\\Users\\\\mnickarz\\\\Desktop\\\\PythDlaKazd_COPY\\\\baconCopy.txt'"
      ]
     },
     "execution_count": 5,
     "metadata": {},
     "output_type": "execute_result"
    }
   ],
   "source": [
    "shutil.move(r'C:\\Users\\mnickarz\\Desktop\\pyth\\baconCopy.txt',r'C:\\Users\\mnickarz\\Desktop\\PythDlaKazd_COPY')\n",
    "#moving file"
   ]
  }
 ],
 "metadata": {
  "kernelspec": {
   "display_name": "Python 3.10.7 64-bit",
   "language": "python",
   "name": "python3"
  },
  "language_info": {
   "codemirror_mode": {
    "name": "ipython",
    "version": 3
   },
   "file_extension": ".py",
   "mimetype": "text/x-python",
   "name": "python",
   "nbconvert_exporter": "python",
   "pygments_lexer": "ipython3",
   "version": "3.10.7"
  },
  "orig_nbformat": 4,
  "vscode": {
   "interpreter": {
    "hash": "a7dbb88c84ecda04e2dfa8176cb6708abf8c95c32934f510df16d1a1f4945387"
   }
  }
 },
 "nbformat": 4,
 "nbformat_minor": 2
}
