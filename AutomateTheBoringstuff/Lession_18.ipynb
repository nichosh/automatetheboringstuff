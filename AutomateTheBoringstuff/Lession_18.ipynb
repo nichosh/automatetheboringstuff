{
 "cells": [
  {
   "cell_type": "code",
   "execution_count": 2,
   "metadata": {},
   "outputs": [
    {
     "name": "stdout",
     "output_type": "stream",
     "text": [
      "[{'name': 'Zophie', 'age': 7, 'color': 'gray'}, {'name': 'Pooka', 'age': 5, 'color': 'black'}, {'name': '????', 'age': -1, 'color': 'orange'}]\n"
     ]
    }
   ],
   "source": [
    "cat = {'name':'Zophie','age':7,'color':'gray'}\n",
    "allCats = []\n",
    "\n",
    "allCats.append({'name':'Zophie','age':7,'color':'gray'})\n",
    "allCats.append({'name':'Pooka','age':5,'color':'black'})\n",
    "allCats.append({'name':'????','age':-1,'color':'orange'})\n",
    "\n",
    "print(allCats)\n"
   ]
  },
  {
   "cell_type": "code",
   "execution_count": 9,
   "metadata": {},
   "outputs": [],
   "source": [
    "theBoard = {'top-L':' ','top-M':' ','top-R':' ','mid-L':' ','mid-M':'X','mid-R':' ','low-L':' ','low-M':' ','low-R':' '}"
   ]
  },
  {
   "cell_type": "code",
   "execution_count": 10,
   "metadata": {},
   "outputs": [
    {
     "name": "stdout",
     "output_type": "stream",
     "text": [
      "{'low-L': ' ',\n",
      " 'low-M': ' ',\n",
      " 'low-R': ' ',\n",
      " 'mid-L': ' ',\n",
      " 'mid-M': 'X',\n",
      " 'mid-R': ' ',\n",
      " 'top-L': ' ',\n",
      " 'top-M': ' ',\n",
      " 'top-R': ' '}\n"
     ]
    }
   ],
   "source": [
    "from pprint import pprint\n",
    "pprint(theBoard)"
   ]
  },
  {
   "cell_type": "code",
   "execution_count": null,
   "metadata": {},
   "outputs": [],
   "source": []
  }
 ],
 "metadata": {
  "kernelspec": {
   "display_name": "Python 3.10.6 64-bit",
   "language": "python",
   "name": "python3"
  },
  "language_info": {
   "codemirror_mode": {
    "name": "ipython",
    "version": 3
   },
   "file_extension": ".py",
   "mimetype": "text/x-python",
   "name": "python",
   "nbconvert_exporter": "python",
   "pygments_lexer": "ipython3",
   "version": "3.10.6"
  },
  "orig_nbformat": 4,
  "vscode": {
   "interpreter": {
    "hash": "95cdb06e919eab5e2c554174537356ac9b55200d1eb6f880dc25de04343a18ea"
   }
  }
 },
 "nbformat": 4,
 "nbformat_minor": 2
}
